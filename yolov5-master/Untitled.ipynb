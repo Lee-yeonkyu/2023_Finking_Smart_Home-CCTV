{
 "cells": [
  {
   "cell_type": "code",
   "execution_count": 1,
   "id": "0fa9e3f3",
   "metadata": {
    "scrolled": true
   },
   "outputs": [
    {
     "name": "stderr",
     "output_type": "stream",
     "text": [
      "WARNING: Ignore distutils configs in setup.cfg due to encoding errors.\n",
      "  WARNING: Ignore distutils configs in setup.cfg due to encoding errors.\n",
      "  WARNING: Ignore distutils configs in setup.cfg due to encoding errors.\n",
      "  WARNING: The script dotenv.exe is installed in 'C:\\Users\\YooByeongJu\\AppData\\Roaming\\Python\\Python39\\Scripts' which is not on PATH.\n",
      "  Consider adding this directory to PATH or, if you prefer to suppress this warning, use --no-warn-script-location.\n",
      "  WARNING: Ignore distutils configs in setup.cfg due to encoding errors.\n",
      "  WARNING: Ignore distutils configs in setup.cfg due to encoding errors.\n",
      "  WARNING: Ignore distutils configs in setup.cfg due to encoding errors.\n",
      "  WARNING: Ignore distutils configs in setup.cfg due to encoding errors.\n",
      "  WARNING: Ignore distutils configs in setup.cfg due to encoding errors.\n",
      "  WARNING: Ignore distutils configs in setup.cfg due to encoding errors.\n",
      "WARNING: Ignore distutils configs in setup.cfg due to encoding errors.\n",
      "ERROR: pip's dependency resolver does not currently take into account all the packages that are installed. This behaviour is the source of the following dependency conflicts.\n",
      "google-auth-oauthlib 0.4.6 requires google-auth>=1.0.0, which is not installed.\n",
      "conda-repo-cli 1.0.41 requires requests_mock, which is not installed.\n",
      "conda-repo-cli 1.0.41 requires clyent==1.2.1, but you have clyent 1.2.2 which is incompatible.\n",
      "conda-repo-cli 1.0.41 requires nbformat==5.4.0, but you have nbformat 5.7.0 which is incompatible.\n"
     ]
    },
    {
     "name": "stdout",
     "output_type": "stream",
     "text": [
      "Defaulting to user installation because normal site-packages is not writeable\n",
      "Collecting roboflow\n",
      "  Using cached roboflow-1.0.3-py3-none-any.whl (55 kB)\n",
      "Requirement already satisfied: numpy>=1.18.5 in c:\\programdata\\anaconda3\\lib\\site-packages (from roboflow) (1.23.5)\n",
      "Collecting cycler==0.10.0\n",
      "  Using cached cycler-0.10.0-py2.py3-none-any.whl (6.5 kB)\n",
      "Requirement already satisfied: Pillow>=7.1.2 in c:\\programdata\\anaconda3\\lib\\site-packages (from roboflow) (9.4.0)\n",
      "Collecting idna==2.10\n",
      "  Using cached idna-2.10-py2.py3-none-any.whl (58 kB)\n",
      "Requirement already satisfied: kiwisolver>=1.3.1 in c:\\programdata\\anaconda3\\lib\\site-packages (from roboflow) (1.4.4)\n",
      "Requirement already satisfied: six in c:\\programdata\\anaconda3\\lib\\site-packages (from roboflow) (1.16.0)\n",
      "Requirement already satisfied: certifi==2022.12.7 in c:\\programdata\\anaconda3\\lib\\site-packages (from roboflow) (2022.12.7)\n",
      "Collecting requests-toolbelt\n",
      "  Using cached requests_toolbelt-0.10.1-py2.py3-none-any.whl (54 kB)\n",
      "Collecting python-dotenv\n",
      "  Using cached python_dotenv-1.0.0-py3-none-any.whl (19 kB)\n",
      "Requirement already satisfied: tqdm>=4.41.0 in c:\\programdata\\anaconda3\\lib\\site-packages (from roboflow) (4.64.1)\n",
      "Requirement already satisfied: matplotlib in c:\\programdata\\anaconda3\\lib\\site-packages (from roboflow) (3.7.0)\n",
      "Requirement already satisfied: chardet==4.0.0 in c:\\programdata\\anaconda3\\lib\\site-packages (from roboflow) (4.0.0)\n",
      "Collecting opencv-python>=4.1.2\n",
      "  Using cached opencv_python-4.7.0.72-cp37-abi3-win_amd64.whl (38.2 MB)\n",
      "Collecting pyparsing==2.4.7\n",
      "  Using cached pyparsing-2.4.7-py2.py3-none-any.whl (67 kB)\n",
      "Requirement already satisfied: urllib3>=1.26.6 in c:\\programdata\\anaconda3\\lib\\site-packages (from roboflow) (1.26.14)\n",
      "Requirement already satisfied: PyYAML>=5.3.1 in c:\\programdata\\anaconda3\\lib\\site-packages (from roboflow) (6.0)\n",
      "Requirement already satisfied: requests in c:\\programdata\\anaconda3\\lib\\site-packages (from roboflow) (2.28.1)\n",
      "Requirement already satisfied: python-dateutil in c:\\programdata\\anaconda3\\lib\\site-packages (from roboflow) (2.8.2)\n",
      "Collecting wget\n",
      "  Using cached wget-3.2.zip (10 kB)\n",
      "  Preparing metadata (setup.py): started\n",
      "  Preparing metadata (setup.py): finished with status 'done'\n",
      "Requirement already satisfied: colorama in c:\\programdata\\anaconda3\\lib\\site-packages (from tqdm>=4.41.0->roboflow) (0.4.6)\n",
      "Requirement already satisfied: packaging>=20.0 in c:\\programdata\\anaconda3\\lib\\site-packages (from matplotlib->roboflow) (22.0)\n",
      "Requirement already satisfied: importlib-resources>=3.2.0 in c:\\programdata\\anaconda3\\lib\\site-packages (from matplotlib->roboflow) (5.2.0)\n",
      "Requirement already satisfied: contourpy>=1.0.1 in c:\\programdata\\anaconda3\\lib\\site-packages (from matplotlib->roboflow) (1.0.5)\n",
      "Requirement already satisfied: fonttools>=4.22.0 in c:\\programdata\\anaconda3\\lib\\site-packages (from matplotlib->roboflow) (4.25.0)\n",
      "Requirement already satisfied: charset-normalizer<3,>=2 in c:\\programdata\\anaconda3\\lib\\site-packages (from requests->roboflow) (2.0.4)\n",
      "Requirement already satisfied: zipp>=3.1.0 in c:\\programdata\\anaconda3\\lib\\site-packages (from importlib-resources>=3.2.0->matplotlib->roboflow) (3.11.0)\n",
      "Building wheels for collected packages: wget\n",
      "  Building wheel for wget (setup.py): started\n",
      "  Building wheel for wget (setup.py): finished with status 'done'\n",
      "  Created wheel for wget: filename=wget-3.2-py3-none-any.whl size=9680 sha256=6ecf2ea441f89f56b547821c1487dd95a9d6020dc7ae1fdcb0d59a065c06cc4c\n",
      "  Stored in directory: c:\\users\\yoobyeongju\\appdata\\local\\pip\\cache\\wheels\\04\\5f\\3e\\46cc37c5d698415694d83f607f833f83f0149e49b3af9d0f38\n",
      "Successfully built wget\n",
      "Installing collected packages: wget, python-dotenv, pyparsing, opencv-python, idna, cycler, requests-toolbelt, roboflow\n",
      "Successfully installed cycler-0.10.0 idna-2.10 opencv-python-4.7.0.72 pyparsing-2.4.7 python-dotenv-1.0.0 requests-toolbelt-0.10.1 roboflow-1.0.3 wget-3.2\n",
      "loading Roboflow workspace...\n",
      "loading Roboflow project...\n",
      "Downloading Dataset Version Zip in facedetection-1 to yolov5pytorch: 100% [1579664 / 1579664] bytes\n"
     ]
    },
    {
     "name": "stderr",
     "output_type": "stream",
     "text": [
      "Extracting Dataset Version Zip to facedetection-1 in yolov5pytorch:: 100%|███████████| 90/90 [00:00<00:00, 1454.06it/s]\n"
     ]
    }
   ],
   "source": [
    "!pip install roboflow\n",
    "\n",
    "from roboflow import Roboflow\n",
    "rf = Roboflow(api_key=\"vnoCjpz2gr4w8CuOqM9J\")\n",
    "project = rf.workspace(\"2023homecctv\").project(\"facedetection-dhybj\")\n",
    "dataset = project.version(1).download(\"yolov5\")"
   ]
  },
  {
   "cell_type": "code",
   "execution_count": 15,
   "id": "a385428e",
   "metadata": {},
   "outputs": [
    {
     "name": "stdout",
     "output_type": "stream",
     "text": [
      "Defaulting to user installation because normal site-packages is not writeableNote: you may need to restart the kernel to use updated packages.\n"
     ]
    },
    {
     "name": "stderr",
     "output_type": "stream",
     "text": [
      "WARNING: Ignore distutils configs in setup.cfg due to encoding errors.\n",
      "WARNING: Ignore distutils configs in setup.cfg due to encoding errors.\n"
     ]
    },
    {
     "name": "stdout",
     "output_type": "stream",
     "text": [
      "\n",
      "Requirement already satisfied: gitpython>=3.1.30 in c:\\users\\yoobyeongju\\appdata\\roaming\\python\\python38\\site-packages (from -r requirements.txt (line 5)) (3.1.31)\n",
      "Requirement already satisfied: matplotlib>=3.2.2 in c:\\users\\yoobyeongju\\appdata\\roaming\\python\\python38\\site-packages (from -r requirements.txt (line 6)) (3.7.0)\n",
      "Requirement already satisfied: numpy>=1.18.5 in c:\\users\\yoobyeongju\\appdata\\roaming\\python\\python38\\site-packages (from -r requirements.txt (line 7)) (1.23.5)\n",
      "Requirement already satisfied: opencv-python>=4.1.1 in c:\\users\\yoobyeongju\\appdata\\roaming\\python\\python38\\site-packages (from -r requirements.txt (line 8)) (4.5.5.64)\n",
      "Requirement already satisfied: Pillow>=7.1.2 in c:\\programdata\\anaconda3\\envs\\env_dlib\\lib\\site-packages (from -r requirements.txt (line 9)) (9.5.0)\n",
      "Requirement already satisfied: psutil in c:\\users\\yoobyeongju\\appdata\\roaming\\python\\python38\\site-packages (from -r requirements.txt (line 10)) (5.9.4)\n",
      "Requirement already satisfied: PyYAML>=5.3.1 in c:\\users\\yoobyeongju\\appdata\\roaming\\python\\python38\\site-packages (from -r requirements.txt (line 11)) (6.0)\n",
      "Requirement already satisfied: requests>=2.23.0 in c:\\programdata\\anaconda3\\envs\\env_dlib\\lib\\site-packages (from -r requirements.txt (line 12)) (2.28.2)\n",
      "Requirement already satisfied: scipy>=1.4.1 in c:\\users\\yoobyeongju\\appdata\\roaming\\python\\python38\\site-packages (from -r requirements.txt (line 13)) (1.10.1)\n",
      "Requirement already satisfied: thop>=0.1.1 in c:\\users\\yoobyeongju\\appdata\\roaming\\python\\python38\\site-packages (from -r requirements.txt (line 14)) (0.1.1.post2209072238)\n",
      "Requirement already satisfied: torch>=1.7.0 in c:\\programdata\\anaconda3\\envs\\env_dlib\\lib\\site-packages (from -r requirements.txt (line 15)) (2.0.0)\n",
      "Requirement already satisfied: torchvision>=0.8.1 in c:\\programdata\\anaconda3\\envs\\env_dlib\\lib\\site-packages (from -r requirements.txt (line 16)) (0.15.1)\n",
      "Requirement already satisfied: tqdm>=4.64.0 in c:\\users\\yoobyeongju\\appdata\\roaming\\python\\python38\\site-packages (from -r requirements.txt (line 17)) (4.64.1)\n",
      "Requirement already satisfied: tensorboard>=2.4.1 in c:\\users\\yoobyeongju\\appdata\\roaming\\python\\python38\\site-packages (from -r requirements.txt (line 21)) (2.12.0)\n",
      "Requirement already satisfied: pandas>=1.1.4 in c:\\users\\yoobyeongju\\appdata\\roaming\\python\\python38\\site-packages (from -r requirements.txt (line 26)) (1.5.3)\n",
      "Requirement already satisfied: seaborn>=0.11.0 in c:\\users\\yoobyeongju\\appdata\\roaming\\python\\python38\\site-packages (from -r requirements.txt (line 27)) (0.12.2)\n",
      "Requirement already satisfied: setuptools>=65.5.1 in c:\\programdata\\anaconda3\\envs\\env_dlib\\lib\\site-packages (from -r requirements.txt (line 41)) (65.6.3)\n",
      "Requirement already satisfied: gitdb<5,>=4.0.1 in c:\\users\\yoobyeongju\\appdata\\roaming\\python\\python38\\site-packages (from gitpython>=3.1.30->-r requirements.txt (line 5)) (4.0.10)\n",
      "Requirement already satisfied: python-dateutil>=2.7 in c:\\users\\yoobyeongju\\appdata\\roaming\\python\\python38\\site-packages (from matplotlib>=3.2.2->-r requirements.txt (line 6)) (2.8.2)\n",
      "Requirement already satisfied: kiwisolver>=1.0.1 in c:\\users\\yoobyeongju\\appdata\\roaming\\python\\python38\\site-packages (from matplotlib>=3.2.2->-r requirements.txt (line 6)) (1.4.4)\n",
      "Requirement already satisfied: fonttools>=4.22.0 in c:\\users\\yoobyeongju\\appdata\\roaming\\python\\python38\\site-packages (from matplotlib>=3.2.2->-r requirements.txt (line 6)) (4.38.0)\n",
      "Requirement already satisfied: importlib-resources>=3.2.0 in c:\\users\\yoobyeongju\\appdata\\roaming\\python\\python38\\site-packages (from matplotlib>=3.2.2->-r requirements.txt (line 6)) (5.12.0)\n",
      "Requirement already satisfied: pyparsing>=2.3.1 in c:\\users\\yoobyeongju\\appdata\\roaming\\python\\python38\\site-packages (from matplotlib>=3.2.2->-r requirements.txt (line 6)) (2.4.7)\n",
      "Requirement already satisfied: cycler>=0.10 in c:\\users\\yoobyeongju\\appdata\\roaming\\python\\python38\\site-packages (from matplotlib>=3.2.2->-r requirements.txt (line 6)) (0.10.0)\n",
      "Requirement already satisfied: contourpy>=1.0.1 in c:\\users\\yoobyeongju\\appdata\\roaming\\python\\python38\\site-packages (from matplotlib>=3.2.2->-r requirements.txt (line 6)) (1.0.7)\n",
      "Requirement already satisfied: packaging>=20.0 in c:\\users\\yoobyeongju\\appdata\\roaming\\python\\python38\\site-packages (from matplotlib>=3.2.2->-r requirements.txt (line 6)) (23.0)\n",
      "Requirement already satisfied: certifi>=2017.4.17 in c:\\programdata\\anaconda3\\envs\\env_dlib\\lib\\site-packages (from requests>=2.23.0->-r requirements.txt (line 12)) (2022.12.7)\n",
      "Requirement already satisfied: charset-normalizer<4,>=2 in c:\\programdata\\anaconda3\\envs\\env_dlib\\lib\\site-packages (from requests>=2.23.0->-r requirements.txt (line 12)) (3.1.0)\n",
      "Requirement already satisfied: urllib3<1.27,>=1.21.1 in c:\\programdata\\anaconda3\\envs\\env_dlib\\lib\\site-packages (from requests>=2.23.0->-r requirements.txt (line 12)) (1.26.15)\n",
      "Requirement already satisfied: idna<4,>=2.5 in c:\\users\\yoobyeongju\\appdata\\roaming\\python\\python38\\site-packages (from requests>=2.23.0->-r requirements.txt (line 12)) (2.10)\n",
      "Requirement already satisfied: networkx in c:\\programdata\\anaconda3\\envs\\env_dlib\\lib\\site-packages (from torch>=1.7.0->-r requirements.txt (line 15)) (3.0)\n",
      "Requirement already satisfied: typing-extensions in c:\\programdata\\anaconda3\\envs\\env_dlib\\lib\\site-packages (from torch>=1.7.0->-r requirements.txt (line 15)) (4.5.0)\n",
      "Requirement already satisfied: jinja2 in c:\\programdata\\anaconda3\\envs\\env_dlib\\lib\\site-packages (from torch>=1.7.0->-r requirements.txt (line 15)) (3.1.2)\n",
      "Requirement already satisfied: sympy in c:\\programdata\\anaconda3\\envs\\env_dlib\\lib\\site-packages (from torch>=1.7.0->-r requirements.txt (line 15)) (1.11.1)\n",
      "Requirement already satisfied: filelock in c:\\programdata\\anaconda3\\envs\\env_dlib\\lib\\site-packages (from torch>=1.7.0->-r requirements.txt (line 15)) (3.10.7)\n",
      "Requirement already satisfied: colorama in c:\\users\\yoobyeongju\\appdata\\roaming\\python\\python38\\site-packages (from tqdm>=4.64.0->-r requirements.txt (line 17)) (0.4.6)\n",
      "Requirement already satisfied: grpcio>=1.48.2 in c:\\users\\yoobyeongju\\appdata\\roaming\\python\\python38\\site-packages (from tensorboard>=2.4.1->-r requirements.txt (line 21)) (1.51.3)\n",
      "Requirement already satisfied: tensorboard-plugin-wit>=1.6.0 in c:\\users\\yoobyeongju\\appdata\\roaming\\python\\python38\\site-packages (from tensorboard>=2.4.1->-r requirements.txt (line 21)) (1.8.1)\n",
      "Requirement already satisfied: tensorboard-data-server<0.8.0,>=0.7.0 in c:\\users\\yoobyeongju\\appdata\\roaming\\python\\python38\\site-packages (from tensorboard>=2.4.1->-r requirements.txt (line 21)) (0.7.0)\n",
      "Requirement already satisfied: google-auth-oauthlib<0.5,>=0.4.1 in c:\\users\\yoobyeongju\\appdata\\roaming\\python\\python38\\site-packages (from tensorboard>=2.4.1->-r requirements.txt (line 21)) (0.4.6)\n",
      "Requirement already satisfied: markdown>=2.6.8 in c:\\users\\yoobyeongju\\appdata\\roaming\\python\\python38\\site-packages (from tensorboard>=2.4.1->-r requirements.txt (line 21)) (3.4.1)\n",
      "Requirement already satisfied: absl-py>=0.4 in c:\\users\\yoobyeongju\\appdata\\roaming\\python\\python38\\site-packages (from tensorboard>=2.4.1->-r requirements.txt (line 21)) (1.4.0)\n",
      "Requirement already satisfied: werkzeug>=1.0.1 in c:\\users\\yoobyeongju\\appdata\\roaming\\python\\python38\\site-packages (from tensorboard>=2.4.1->-r requirements.txt (line 21)) (2.2.3)\n",
      "Requirement already satisfied: wheel>=0.26 in c:\\programdata\\anaconda3\\envs\\env_dlib\\lib\\site-packages (from tensorboard>=2.4.1->-r requirements.txt (line 21)) (0.38.4)\n",
      "Requirement already satisfied: google-auth<3,>=1.6.3 in c:\\users\\yoobyeongju\\appdata\\roaming\\python\\python38\\site-packages (from tensorboard>=2.4.1->-r requirements.txt (line 21)) (2.16.1)\n",
      "Requirement already satisfied: protobuf>=3.19.6 in c:\\users\\yoobyeongju\\appdata\\roaming\\python\\python38\\site-packages (from tensorboard>=2.4.1->-r requirements.txt (line 21)) (3.20.3)\n",
      "Requirement already satisfied: pytz>=2020.1 in c:\\users\\yoobyeongju\\appdata\\roaming\\python\\python38\\site-packages (from pandas>=1.1.4->-r requirements.txt (line 26)) (2022.7.1)\n",
      "Requirement already satisfied: six in c:\\programdata\\anaconda3\\envs\\env_dlib\\lib\\site-packages (from cycler>=0.10->matplotlib>=3.2.2->-r requirements.txt (line 6)) (1.16.0)\n",
      "Requirement already satisfied: smmap<6,>=3.0.1 in c:\\users\\yoobyeongju\\appdata\\roaming\\python\\python38\\site-packages (from gitdb<5,>=4.0.1->gitpython>=3.1.30->-r requirements.txt (line 5)) (5.0.0)\n",
      "Requirement already satisfied: pyasn1-modules>=0.2.1 in c:\\users\\yoobyeongju\\appdata\\roaming\\python\\python38\\site-packages (from google-auth<3,>=1.6.3->tensorboard>=2.4.1->-r requirements.txt (line 21)) (0.2.8)\n",
      "Requirement already satisfied: cachetools<6.0,>=2.0.0 in c:\\users\\yoobyeongju\\appdata\\roaming\\python\\python38\\site-packages (from google-auth<3,>=1.6.3->tensorboard>=2.4.1->-r requirements.txt (line 21)) (5.3.0)\n",
      "Requirement already satisfied: rsa<5,>=3.1.4 in c:\\users\\yoobyeongju\\appdata\\roaming\\python\\python38\\site-packages (from google-auth<3,>=1.6.3->tensorboard>=2.4.1->-r requirements.txt (line 21)) (4.9)\n",
      "Requirement already satisfied: requests-oauthlib>=0.7.0 in c:\\users\\yoobyeongju\\appdata\\roaming\\python\\python38\\site-packages (from google-auth-oauthlib<0.5,>=0.4.1->tensorboard>=2.4.1->-r requirements.txt (line 21)) (1.3.1)\n",
      "Requirement already satisfied: zipp>=3.1.0 in c:\\users\\yoobyeongju\\appdata\\roaming\\python\\python38\\site-packages (from importlib-resources>=3.2.0->matplotlib>=3.2.2->-r requirements.txt (line 6)) (3.15.0)\n",
      "Requirement already satisfied: importlib-metadata>=4.4 in c:\\users\\yoobyeongju\\appdata\\roaming\\python\\python38\\site-packages (from markdown>=2.6.8->tensorboard>=2.4.1->-r requirements.txt (line 21)) (6.0.0)\n",
      "Requirement already satisfied: MarkupSafe>=2.1.1 in c:\\users\\yoobyeongju\\appdata\\roaming\\python\\python38\\site-packages (from werkzeug>=1.0.1->tensorboard>=2.4.1->-r requirements.txt (line 21)) (2.1.2)\n",
      "Requirement already satisfied: mpmath>=0.19 in c:\\programdata\\anaconda3\\envs\\env_dlib\\lib\\site-packages (from sympy->torch>=1.7.0->-r requirements.txt (line 15)) (1.3.0)\n",
      "Requirement already satisfied: pyasn1<0.5.0,>=0.4.6 in c:\\users\\yoobyeongju\\appdata\\roaming\\python\\python38\\site-packages (from pyasn1-modules>=0.2.1->google-auth<3,>=1.6.3->tensorboard>=2.4.1->-r requirements.txt (line 21)) (0.4.8)\n",
      "Requirement already satisfied: oauthlib>=3.0.0 in c:\\users\\yoobyeongju\\appdata\\roaming\\python\\python38\\site-packages (from requests-oauthlib>=0.7.0->google-auth-oauthlib<0.5,>=0.4.1->tensorboard>=2.4.1->-r requirements.txt (line 21)) (3.2.2)\n"
     ]
    }
   ],
   "source": [
    "pip install -r requirements.txt"
   ]
  },
  {
   "cell_type": "code",
   "execution_count": 12,
   "id": "273eb925",
   "metadata": {},
   "outputs": [],
   "source": [
    "from glob import glob\n",
    "\n",
    "train_img_list = glob('./facedetection-1/train/images/*.jpg')\n",
    "valid_img_list = glob('./facedetection-1/valid/images/*.jpg')\n",
    "test_img_list = glob('./facedetection-1/test/images/*.jpg')\n",
    "# 리스트를 txt파일로 생성\n",
    "with open('./facedetection-1/train.txt', 'w') as f:\n",
    "\tf.write('\\n'.join(train_img_list) + '\\n')\n",
    "    \n",
    "with open('./facedetection-1/valid.txt', 'w') as f:\n",
    "\tf.write('\\n'.join(valid_img_list) + '\\n')\n",
    " \n",
    "with open('./facedetection-1/test.txt', 'w') as f:\n",
    "\tf.write('\\n'.join(test_img_list) + '\\n')"
   ]
  },
  {
   "cell_type": "code",
   "execution_count": 4,
   "id": "81626e43",
   "metadata": {},
   "outputs": [
    {
     "name": "stdout",
     "output_type": "stream",
     "text": [
      "{'names': ['Yoo-ByeongJu'], 'nc': 1, 'roboflow': {'license': 'CC BY 4.0', 'project': 'facedetection-dhybj', 'url': 'https://universe.roboflow.com/2023homecctv/facedetection-dhybj/dataset/1', 'version': 1, 'workspace': '2023homecctv'}, 'test': '/facedetection-1/test.txt', 'train': '/facedetection-1/train.txt', 'val': '/facedetection-1/valid.txt'}\n",
      "{'names': ['Yoo-ByeongJu'], 'nc': 1, 'roboflow': {'license': 'CC BY 4.0', 'project': 'facedetection-dhybj', 'url': 'https://universe.roboflow.com/2023homecctv/facedetection-dhybj/dataset/1', 'version': 1, 'workspace': '2023homecctv'}, 'test': './facedetection-1/test.txt', 'train': './facedetection-1/train.txt', 'val': './facedetection-1/valid.txt'}\n"
     ]
    }
   ],
   "source": [
    "import yaml\n",
    "\n",
    "with open('./facedetection-1/data.yaml', 'r') as f:\n",
    "  data = yaml.full_load(f)\n",
    "\n",
    "print(data)\n",
    "\n",
    "data['train'] = './facedetection-1/train.txt'\n",
    "data['val'] = './facedetection-1/valid.txt'\n",
    "data['test'] = './facedetection-1/test.txt'\n",
    "\n",
    "with open('./facedetection-1/data.yaml','w') as f:\n",
    "  yaml.dump(data,f)\n",
    "\n",
    "print(data)"
   ]
  },
  {
   "cell_type": "code",
   "execution_count": 5,
   "id": "ef4d90ce",
   "metadata": {},
   "outputs": [
    {
     "name": "stdout",
     "output_type": "stream",
     "text": [
      "\u001b[34m\u001b[1mgithub: \u001b[0mskipping check (not a git repository), for updates see https://github.com/ultralytics/yolov5\n"
     ]
    },
    {
     "name": "stderr",
     "output_type": "stream",
     "text": [
      "\u001b[34m\u001b[1mtrain: \u001b[0mweights=yolov5s.pt, cfg=./models/yolov5s.yaml, data=./facedetection-1/data.yaml, hyp=data\\hyps\\hyp.scratch-low.yaml, epochs=50, batch_size=16, imgsz=416, rect=False, resume=False, nosave=False, noval=False, noautoanchor=False, noplots=False, evolve=None, bucket=, cache=None, image_weights=False, device=, multi_scale=False, single_cls=False, optimizer=SGD, sync_bn=False, workers=8, project=runs\\train, name=yolov5_face, exist_ok=False, quad=False, cos_lr=False, label_smoothing=0.0, patience=100, freeze=[0], save_period=-1, seed=0, local_rank=-1, entity=None, upload_dataset=False, bbox_interval=-1, artifact_alias=latest\n",
      "YOLOv5  2023-2-28 Python-3.8.16 torch-2.0.0+cpu CPU\n",
      "\n",
      "\u001b[34m\u001b[1mhyperparameters: \u001b[0mlr0=0.01, lrf=0.01, momentum=0.937, weight_decay=0.0005, warmup_epochs=3.0, warmup_momentum=0.8, warmup_bias_lr=0.1, box=0.05, cls=0.5, cls_pw=1.0, obj=1.0, obj_pw=1.0, iou_t=0.2, anchor_t=4.0, fl_gamma=0.0, hsv_h=0.015, hsv_s=0.7, hsv_v=0.4, degrees=0.0, translate=0.1, scale=0.5, shear=0.0, perspective=0.0, flipud=0.0, fliplr=0.5, mosaic=1.0, mixup=0.0, copy_paste=0.0\n",
      "\u001b[34m\u001b[1mClearML: \u001b[0mrun 'pip install clearml' to automatically track, visualize and remotely train YOLOv5  in ClearML\n",
      "\u001b[34m\u001b[1mComet: \u001b[0mrun 'pip install comet_ml' to automatically track and visualize YOLOv5  runs in Comet\n",
      "\u001b[34m\u001b[1mTensorBoard: \u001b[0mStart with 'tensorboard --logdir runs\\train', view at http://localhost:6006/\n",
      "Downloading https://ultralytics.com/assets/Arial.ttf to C:\\Users\\YooByeongJu\\AppData\\Roaming\\Ultralytics\\Arial.ttf...\n",
      "\n",
      "  0%|          | 0.00/755k [00:00<?, ?B/s]\n",
      " 61%|██████▏   | 464k/755k [00:00<00:00, 4.75MB/s]\n",
      "100%|██████████| 755k/755k [00:00<00:00, 3.50MB/s]\n",
      "Overriding model.yaml nc=80 with nc=1\n",
      "\n",
      "                 from  n    params  module                                  arguments                     \n",
      "  0                -1  1      3520  models.common.Conv                      [3, 32, 6, 2, 2]              \n",
      "  1                -1  1     18560  models.common.Conv                      [32, 64, 3, 2]                \n",
      "  2                -1  1     18816  models.common.C3                        [64, 64, 1]                   \n",
      "  3                -1  1     73984  models.common.Conv                      [64, 128, 3, 2]               \n",
      "  4                -1  2    115712  models.common.C3                        [128, 128, 2]                 \n",
      "  5                -1  1    295424  models.common.Conv                      [128, 256, 3, 2]              \n",
      "  6                -1  3    625152  models.common.C3                        [256, 256, 3]                 \n",
      "  7                -1  1   1180672  models.common.Conv                      [256, 512, 3, 2]              \n",
      "  8                -1  1   1182720  models.common.C3                        [512, 512, 1]                 \n",
      "  9                -1  1    656896  models.common.SPPF                      [512, 512, 5]                 \n",
      " 10                -1  1    131584  models.common.Conv                      [512, 256, 1, 1]              \n",
      " 11                -1  1         0  torch.nn.modules.upsampling.Upsample    [None, 2, 'nearest']          \n",
      " 12           [-1, 6]  1         0  models.common.Concat                    [1]                           \n",
      " 13                -1  1    361984  models.common.C3                        [512, 256, 1, False]          \n",
      " 14                -1  1     33024  models.common.Conv                      [256, 128, 1, 1]              \n",
      " 15                -1  1         0  torch.nn.modules.upsampling.Upsample    [None, 2, 'nearest']          \n",
      " 16           [-1, 4]  1         0  models.common.Concat                    [1]                           \n",
      " 17                -1  1     90880  models.common.C3                        [256, 128, 1, False]          \n",
      " 18                -1  1    147712  models.common.Conv                      [128, 128, 3, 2]              \n",
      " 19          [-1, 14]  1         0  models.common.Concat                    [1]                           \n",
      " 20                -1  1    296448  models.common.C3                        [256, 256, 1, False]          \n",
      " 21                -1  1    590336  models.common.Conv                      [256, 256, 3, 2]              \n",
      " 22          [-1, 10]  1         0  models.common.Concat                    [1]                           \n",
      " 23                -1  1   1182720  models.common.C3                        [512, 512, 1, False]          \n",
      " 24      [17, 20, 23]  1     16182  models.yolo.Detect                      [1, [[10, 13, 16, 30, 33, 23], [30, 61, 62, 45, 59, 119], [116, 90, 156, 198, 373, 326]], [128, 256, 512]]\n",
      "YOLOv5s summary: 214 layers, 7022326 parameters, 7022326 gradients, 15.9 GFLOPs\n",
      "\n",
      "Transferred 342/349 items from yolov5s.pt\n",
      "\u001b[34m\u001b[1moptimizer:\u001b[0m SGD(lr=0.01) with parameter groups 57 weight(decay=0.0), 60 weight(decay=0.0005), 60 bias\n",
      "\n",
      "\u001b[34m\u001b[1mtrain: \u001b[0mScanning C:\\Users\\YooByeongJu\\Desktop\\yolov5-master\\facedetection-1\\train...:   0%|          | 0/33 [00:00<?, ?it/s]\n",
      "\u001b[34m\u001b[1mtrain: \u001b[0mScanning C:\\Users\\YooByeongJu\\Desktop\\yolov5-master\\facedetection-1\\train... 0 images, 0 backgrounds, 1 corrupt:   3%|▎         | 1/33 [00:16<08:32, 16.01s/it]\n",
      "\u001b[34m\u001b[1mtrain: \u001b[0mScanning C:\\Users\\YooByeongJu\\Desktop\\yolov5-master\\facedetection-1\\train... 0 images, 0 backgrounds, 33 corrupt: 100%|██████████| 33/33 [00:16<00:00,  2.06it/s]\n",
      "\u001b[34m\u001b[1mtrain: \u001b[0mWARNING  C:\\Users\\YooByeongJu\\Desktop\\yolov5-master\\facedetection-1\\facedetection-1\\train\\images\\KakaoTalk_20230402_165444209_jpg.rf.227973685473ecdfbd1eaa4bacf40cb0.jpg: ignoring corrupt image/label: [Errno 2] No such file or directory: 'C:\\\\Users\\\\YooByeongJu\\\\Desktop\\\\yolov5-master\\\\facedetection-1\\\\facedetection-1\\\\train\\\\images\\\\KakaoTalk_20230402_165444209_jpg.rf.227973685473ecdfbd1eaa4bacf40cb0.jpg'\n",
      "\u001b[34m\u001b[1mtrain: \u001b[0mWARNING  C:\\Users\\YooByeongJu\\Desktop\\yolov5-master\\facedetection-1\\facedetection-1\\train\\images\\KakaoTalk_20230402_165444209_jpg.rf.87b6fc3034eb28a403b06bd4361efb8f.jpg: ignoring corrupt image/label: [Errno 2] No such file or directory: 'C:\\\\Users\\\\YooByeongJu\\\\Desktop\\\\yolov5-master\\\\facedetection-1\\\\facedetection-1\\\\train\\\\images\\\\KakaoTalk_20230402_165444209_jpg.rf.87b6fc3034eb28a403b06bd4361efb8f.jpg'\n",
      "\u001b[34m\u001b[1mtrain: \u001b[0mWARNING  C:\\Users\\YooByeongJu\\Desktop\\yolov5-master\\facedetection-1\\facedetection-1\\train\\images\\KakaoTalk_20230402_165444209_jpg.rf.e8f31c5e533432474752cb42ac344a14.jpg: ignoring corrupt image/label: [Errno 2] No such file or directory: 'C:\\\\Users\\\\YooByeongJu\\\\Desktop\\\\yolov5-master\\\\facedetection-1\\\\facedetection-1\\\\train\\\\images\\\\KakaoTalk_20230402_165444209_jpg.rf.e8f31c5e533432474752cb42ac344a14.jpg'\n",
      "\u001b[34m\u001b[1mtrain: \u001b[0mWARNING  C:\\Users\\YooByeongJu\\Desktop\\yolov5-master\\facedetection-1\\facedetection-1\\train\\images\\KakaoTalk_20230402_165445818_jpg.rf.225504ed7ea106bdef67283bda5bb0da.jpg: ignoring corrupt image/label: [Errno 2] No such file or directory: 'C:\\\\Users\\\\YooByeongJu\\\\Desktop\\\\yolov5-master\\\\facedetection-1\\\\facedetection-1\\\\train\\\\images\\\\KakaoTalk_20230402_165445818_jpg.rf.225504ed7ea106bdef67283bda5bb0da.jpg'\n",
      "\u001b[34m\u001b[1mtrain: \u001b[0mWARNING  C:\\Users\\YooByeongJu\\Desktop\\yolov5-master\\facedetection-1\\facedetection-1\\train\\images\\KakaoTalk_20230402_165445818_jpg.rf.3625c5b130cd8032182b7921cba791f5.jpg: ignoring corrupt image/label: [Errno 2] No such file or directory: 'C:\\\\Users\\\\YooByeongJu\\\\Desktop\\\\yolov5-master\\\\facedetection-1\\\\facedetection-1\\\\train\\\\images\\\\KakaoTalk_20230402_165445818_jpg.rf.3625c5b130cd8032182b7921cba791f5.jpg'\n",
      "\u001b[34m\u001b[1mtrain: \u001b[0mWARNING  C:\\Users\\YooByeongJu\\Desktop\\yolov5-master\\facedetection-1\\facedetection-1\\train\\images\\KakaoTalk_20230402_165445818_jpg.rf.7ce6b2d3df93793397a8b1b8d5e2296f.jpg: ignoring corrupt image/label: [Errno 2] No such file or directory: 'C:\\\\Users\\\\YooByeongJu\\\\Desktop\\\\yolov5-master\\\\facedetection-1\\\\facedetection-1\\\\train\\\\images\\\\KakaoTalk_20230402_165445818_jpg.rf.7ce6b2d3df93793397a8b1b8d5e2296f.jpg'\n",
      "\u001b[34m\u001b[1mtrain: \u001b[0mWARNING  C:\\Users\\YooByeongJu\\Desktop\\yolov5-master\\facedetection-1\\facedetection-1\\train\\images\\KakaoTalk_20230402_165448093_jpg.rf.a651ade1597da8e17318df2f73615aa7.jpg: ignoring corrupt image/label: [Errno 2] No such file or directory: 'C:\\\\Users\\\\YooByeongJu\\\\Desktop\\\\yolov5-master\\\\facedetection-1\\\\facedetection-1\\\\train\\\\images\\\\KakaoTalk_20230402_165448093_jpg.rf.a651ade1597da8e17318df2f73615aa7.jpg'\n",
      "\u001b[34m\u001b[1mtrain: \u001b[0mWARNING  C:\\Users\\YooByeongJu\\Desktop\\yolov5-master\\facedetection-1\\facedetection-1\\train\\images\\KakaoTalk_20230402_165448093_jpg.rf.c5294c1306c36c7c9b68db8978d4e205.jpg: ignoring corrupt image/label: [Errno 2] No such file or directory: 'C:\\\\Users\\\\YooByeongJu\\\\Desktop\\\\yolov5-master\\\\facedetection-1\\\\facedetection-1\\\\train\\\\images\\\\KakaoTalk_20230402_165448093_jpg.rf.c5294c1306c36c7c9b68db8978d4e205.jpg'\n",
      "\u001b[34m\u001b[1mtrain: \u001b[0mWARNING  C:\\Users\\YooByeongJu\\Desktop\\yolov5-master\\facedetection-1\\facedetection-1\\train\\images\\KakaoTalk_20230402_165448093_jpg.rf.f16519747706f0f7017ecdad1e4a539c.jpg: ignoring corrupt image/label: [Errno 2] No such file or directory: 'C:\\\\Users\\\\YooByeongJu\\\\Desktop\\\\yolov5-master\\\\facedetection-1\\\\facedetection-1\\\\train\\\\images\\\\KakaoTalk_20230402_165448093_jpg.rf.f16519747706f0f7017ecdad1e4a539c.jpg'\n",
      "\u001b[34m\u001b[1mtrain: \u001b[0mWARNING  C:\\Users\\YooByeongJu\\Desktop\\yolov5-master\\facedetection-1\\facedetection-1\\train\\images\\KakaoTalk_20230402_165448852_jpg.rf.3dc6d771b6ce73f1561c72a0555e372e.jpg: ignoring corrupt image/label: [Errno 2] No such file or directory: 'C:\\\\Users\\\\YooByeongJu\\\\Desktop\\\\yolov5-master\\\\facedetection-1\\\\facedetection-1\\\\train\\\\images\\\\KakaoTalk_20230402_165448852_jpg.rf.3dc6d771b6ce73f1561c72a0555e372e.jpg'\n",
      "\u001b[34m\u001b[1mtrain: \u001b[0mWARNING  C:\\Users\\YooByeongJu\\Desktop\\yolov5-master\\facedetection-1\\facedetection-1\\train\\images\\KakaoTalk_20230402_165448852_jpg.rf.844c99d2f11543aedccdd191a3777872.jpg: ignoring corrupt image/label: [Errno 2] No such file or directory: 'C:\\\\Users\\\\YooByeongJu\\\\Desktop\\\\yolov5-master\\\\facedetection-1\\\\facedetection-1\\\\train\\\\images\\\\KakaoTalk_20230402_165448852_jpg.rf.844c99d2f11543aedccdd191a3777872.jpg'\n",
      "\u001b[34m\u001b[1mtrain: \u001b[0mWARNING  C:\\Users\\YooByeongJu\\Desktop\\yolov5-master\\facedetection-1\\facedetection-1\\train\\images\\KakaoTalk_20230402_165448852_jpg.rf.e63c77a2f749c6deb8638fa456ea0861.jpg: ignoring corrupt image/label: [Errno 2] No such file or directory: 'C:\\\\Users\\\\YooByeongJu\\\\Desktop\\\\yolov5-master\\\\facedetection-1\\\\facedetection-1\\\\train\\\\images\\\\KakaoTalk_20230402_165448852_jpg.rf.e63c77a2f749c6deb8638fa456ea0861.jpg'\n",
      "\u001b[34m\u001b[1mtrain: \u001b[0mWARNING  C:\\Users\\YooByeongJu\\Desktop\\yolov5-master\\facedetection-1\\facedetection-1\\train\\images\\KakaoTalk_20230402_165451526_jpg.rf.235ff4f71064e34bf955a611e13361c2.jpg: ignoring corrupt image/label: [Errno 2] No such file or directory: 'C:\\\\Users\\\\YooByeongJu\\\\Desktop\\\\yolov5-master\\\\facedetection-1\\\\facedetection-1\\\\train\\\\images\\\\KakaoTalk_20230402_165451526_jpg.rf.235ff4f71064e34bf955a611e13361c2.jpg'\n",
      "\u001b[34m\u001b[1mtrain: \u001b[0mWARNING  C:\\Users\\YooByeongJu\\Desktop\\yolov5-master\\facedetection-1\\facedetection-1\\train\\images\\KakaoTalk_20230402_165451526_jpg.rf.23ccbd1be8b401fd9696690cb59367df.jpg: ignoring corrupt image/label: [Errno 2] No such file or directory: 'C:\\\\Users\\\\YooByeongJu\\\\Desktop\\\\yolov5-master\\\\facedetection-1\\\\facedetection-1\\\\train\\\\images\\\\KakaoTalk_20230402_165451526_jpg.rf.23ccbd1be8b401fd9696690cb59367df.jpg'\n",
      "\u001b[34m\u001b[1mtrain: \u001b[0mWARNING  C:\\Users\\YooByeongJu\\Desktop\\yolov5-master\\facedetection-1\\facedetection-1\\train\\images\\KakaoTalk_20230402_165451526_jpg.rf.8c32e214dff3e96b009368d700b7534a.jpg: ignoring corrupt image/label: [Errno 2] No such file or directory: 'C:\\\\Users\\\\YooByeongJu\\\\Desktop\\\\yolov5-master\\\\facedetection-1\\\\facedetection-1\\\\train\\\\images\\\\KakaoTalk_20230402_165451526_jpg.rf.8c32e214dff3e96b009368d700b7534a.jpg'\n",
      "\u001b[34m\u001b[1mtrain: \u001b[0mWARNING  C:\\Users\\YooByeongJu\\Desktop\\yolov5-master\\facedetection-1\\facedetection-1\\train\\images\\KakaoTalk_20230402_165453076_jpg.rf.394e6eb5809588e1b2b134161c271a11.jpg: ignoring corrupt image/label: [Errno 2] No such file or directory: 'C:\\\\Users\\\\YooByeongJu\\\\Desktop\\\\yolov5-master\\\\facedetection-1\\\\facedetection-1\\\\train\\\\images\\\\KakaoTalk_20230402_165453076_jpg.rf.394e6eb5809588e1b2b134161c271a11.jpg'\n",
      "\u001b[34m\u001b[1mtrain: \u001b[0mWARNING  C:\\Users\\YooByeongJu\\Desktop\\yolov5-master\\facedetection-1\\facedetection-1\\train\\images\\KakaoTalk_20230402_165453076_jpg.rf.4102c0b30246a0b94c6516671aa15b88.jpg: ignoring corrupt image/label: [Errno 2] No such file or directory: 'C:\\\\Users\\\\YooByeongJu\\\\Desktop\\\\yolov5-master\\\\facedetection-1\\\\facedetection-1\\\\train\\\\images\\\\KakaoTalk_20230402_165453076_jpg.rf.4102c0b30246a0b94c6516671aa15b88.jpg'\n",
      "\u001b[34m\u001b[1mtrain: \u001b[0mWARNING  C:\\Users\\YooByeongJu\\Desktop\\yolov5-master\\facedetection-1\\facedetection-1\\train\\images\\KakaoTalk_20230402_165453076_jpg.rf.ef51b95715dfd6fdfa4258a4468d0df8.jpg: ignoring corrupt image/label: [Errno 2] No such file or directory: 'C:\\\\Users\\\\YooByeongJu\\\\Desktop\\\\yolov5-master\\\\facedetection-1\\\\facedetection-1\\\\train\\\\images\\\\KakaoTalk_20230402_165453076_jpg.rf.ef51b95715dfd6fdfa4258a4468d0df8.jpg'\n",
      "\u001b[34m\u001b[1mtrain: \u001b[0mWARNING  C:\\Users\\YooByeongJu\\Desktop\\yolov5-master\\facedetection-1\\facedetection-1\\train\\images\\KakaoTalk_20230402_165454474_jpg.rf.3ce7c4df385f8dde6fdc8ffcc196b192.jpg: ignoring corrupt image/label: [Errno 2] No such file or directory: 'C:\\\\Users\\\\YooByeongJu\\\\Desktop\\\\yolov5-master\\\\facedetection-1\\\\facedetection-1\\\\train\\\\images\\\\KakaoTalk_20230402_165454474_jpg.rf.3ce7c4df385f8dde6fdc8ffcc196b192.jpg'\n",
      "\u001b[34m\u001b[1mtrain: \u001b[0mWARNING  C:\\Users\\YooByeongJu\\Desktop\\yolov5-master\\facedetection-1\\facedetection-1\\train\\images\\KakaoTalk_20230402_165454474_jpg.rf.b6a30cff50305a7f60232caddac03911.jpg: ignoring corrupt image/label: [Errno 2] No such file or directory: 'C:\\\\Users\\\\YooByeongJu\\\\Desktop\\\\yolov5-master\\\\facedetection-1\\\\facedetection-1\\\\train\\\\images\\\\KakaoTalk_20230402_165454474_jpg.rf.b6a30cff50305a7f60232caddac03911.jpg'\n",
      "\u001b[34m\u001b[1mtrain: \u001b[0mWARNING  C:\\Users\\YooByeongJu\\Desktop\\yolov5-master\\facedetection-1\\facedetection-1\\train\\images\\KakaoTalk_20230402_165454474_jpg.rf.c5128e1c2ff8e5e1f0e00f1f1176391d.jpg: ignoring corrupt image/label: [Errno 2] No such file or directory: 'C:\\\\Users\\\\YooByeongJu\\\\Desktop\\\\yolov5-master\\\\facedetection-1\\\\facedetection-1\\\\train\\\\images\\\\KakaoTalk_20230402_165454474_jpg.rf.c5128e1c2ff8e5e1f0e00f1f1176391d.jpg'\n",
      "\u001b[34m\u001b[1mtrain: \u001b[0mWARNING  C:\\Users\\YooByeongJu\\Desktop\\yolov5-master\\facedetection-1\\facedetection-1\\train\\images\\KakaoTalk_20230402_165456884_jpg.rf.8a63f986fc39fa9b60ec3508a5ba2170.jpg: ignoring corrupt image/label: [Errno 2] No such file or directory: 'C:\\\\Users\\\\YooByeongJu\\\\Desktop\\\\yolov5-master\\\\facedetection-1\\\\facedetection-1\\\\train\\\\images\\\\KakaoTalk_20230402_165456884_jpg.rf.8a63f986fc39fa9b60ec3508a5ba2170.jpg'\n",
      "\u001b[34m\u001b[1mtrain: \u001b[0mWARNING  C:\\Users\\YooByeongJu\\Desktop\\yolov5-master\\facedetection-1\\facedetection-1\\train\\images\\KakaoTalk_20230402_165456884_jpg.rf.c6a12f68091be8396494436c204474dd.jpg: ignoring corrupt image/label: [Errno 2] No such file or directory: 'C:\\\\Users\\\\YooByeongJu\\\\Desktop\\\\yolov5-master\\\\facedetection-1\\\\facedetection-1\\\\train\\\\images\\\\KakaoTalk_20230402_165456884_jpg.rf.c6a12f68091be8396494436c204474dd.jpg'\n",
      "\u001b[34m\u001b[1mtrain: \u001b[0mWARNING  C:\\Users\\YooByeongJu\\Desktop\\yolov5-master\\facedetection-1\\facedetection-1\\train\\images\\KakaoTalk_20230402_165456884_jpg.rf.da2cc58cb2050dd6d7022c3514ea3420.jpg: ignoring corrupt image/label: [Errno 2] No such file or directory: 'C:\\\\Users\\\\YooByeongJu\\\\Desktop\\\\yolov5-master\\\\facedetection-1\\\\facedetection-1\\\\train\\\\images\\\\KakaoTalk_20230402_165456884_jpg.rf.da2cc58cb2050dd6d7022c3514ea3420.jpg'\n",
      "\u001b[34m\u001b[1mtrain: \u001b[0mWARNING  C:\\Users\\YooByeongJu\\Desktop\\yolov5-master\\facedetection-1\\facedetection-1\\train\\images\\KakaoTalk_20230402_165459862_jpg.rf.1f1be31882cd0ccb317e4a33be92f039.jpg: ignoring corrupt image/label: [Errno 2] No such file or directory: 'C:\\\\Users\\\\YooByeongJu\\\\Desktop\\\\yolov5-master\\\\facedetection-1\\\\facedetection-1\\\\train\\\\images\\\\KakaoTalk_20230402_165459862_jpg.rf.1f1be31882cd0ccb317e4a33be92f039.jpg'\n",
      "\u001b[34m\u001b[1mtrain: \u001b[0mWARNING  C:\\Users\\YooByeongJu\\Desktop\\yolov5-master\\facedetection-1\\facedetection-1\\train\\images\\KakaoTalk_20230402_165459862_jpg.rf.44fe1db12f26ba2579161a99cf071f69.jpg: ignoring corrupt image/label: [Errno 2] No such file or directory: 'C:\\\\Users\\\\YooByeongJu\\\\Desktop\\\\yolov5-master\\\\facedetection-1\\\\facedetection-1\\\\train\\\\images\\\\KakaoTalk_20230402_165459862_jpg.rf.44fe1db12f26ba2579161a99cf071f69.jpg'\n",
      "\u001b[34m\u001b[1mtrain: \u001b[0mWARNING  C:\\Users\\YooByeongJu\\Desktop\\yolov5-master\\facedetection-1\\facedetection-1\\train\\images\\KakaoTalk_20230402_165459862_jpg.rf.eb56b4bfd5e9d8e0c1d97ebc27f4cb0b.jpg: ignoring corrupt image/label: [Errno 2] No such file or directory: 'C:\\\\Users\\\\YooByeongJu\\\\Desktop\\\\yolov5-master\\\\facedetection-1\\\\facedetection-1\\\\train\\\\images\\\\KakaoTalk_20230402_165459862_jpg.rf.eb56b4bfd5e9d8e0c1d97ebc27f4cb0b.jpg'\n",
      "\u001b[34m\u001b[1mtrain: \u001b[0mWARNING  C:\\Users\\YooByeongJu\\Desktop\\yolov5-master\\facedetection-1\\facedetection-1\\train\\images\\KakaoTalk_20230402_165501123_jpg.rf.1680919b95182018b951916e9dc21e5d.jpg: ignoring corrupt image/label: [Errno 2] No such file or directory: 'C:\\\\Users\\\\YooByeongJu\\\\Desktop\\\\yolov5-master\\\\facedetection-1\\\\facedetection-1\\\\train\\\\images\\\\KakaoTalk_20230402_165501123_jpg.rf.1680919b95182018b951916e9dc21e5d.jpg'\n",
      "\u001b[34m\u001b[1mtrain: \u001b[0mWARNING  C:\\Users\\YooByeongJu\\Desktop\\yolov5-master\\facedetection-1\\facedetection-1\\train\\images\\KakaoTalk_20230402_165501123_jpg.rf.376418cb54bc6ffab602149fc238bb2f.jpg: ignoring corrupt image/label: [Errno 2] No such file or directory: 'C:\\\\Users\\\\YooByeongJu\\\\Desktop\\\\yolov5-master\\\\facedetection-1\\\\facedetection-1\\\\train\\\\images\\\\KakaoTalk_20230402_165501123_jpg.rf.376418cb54bc6ffab602149fc238bb2f.jpg'\n",
      "\u001b[34m\u001b[1mtrain: \u001b[0mWARNING  C:\\Users\\YooByeongJu\\Desktop\\yolov5-master\\facedetection-1\\facedetection-1\\train\\images\\KakaoTalk_20230402_165501123_jpg.rf.e3c22f4a513e2c0900e2f0bb68c85cd5.jpg: ignoring corrupt image/label: [Errno 2] No such file or directory: 'C:\\\\Users\\\\YooByeongJu\\\\Desktop\\\\yolov5-master\\\\facedetection-1\\\\facedetection-1\\\\train\\\\images\\\\KakaoTalk_20230402_165501123_jpg.rf.e3c22f4a513e2c0900e2f0bb68c85cd5.jpg'\n",
      "\u001b[34m\u001b[1mtrain: \u001b[0mWARNING  C:\\Users\\YooByeongJu\\Desktop\\yolov5-master\\facedetection-1\\facedetection-1\\train\\images\\KakaoTalk_20230408_155846698_jpg.rf.45c5079f05f32333e2ff1c34dca0c53f.jpg: ignoring corrupt image/label: [Errno 2] No such file or directory: 'C:\\\\Users\\\\YooByeongJu\\\\Desktop\\\\yolov5-master\\\\facedetection-1\\\\facedetection-1\\\\train\\\\images\\\\KakaoTalk_20230408_155846698_jpg.rf.45c5079f05f32333e2ff1c34dca0c53f.jpg'\n",
      "\u001b[34m\u001b[1mtrain: \u001b[0mWARNING  C:\\Users\\YooByeongJu\\Desktop\\yolov5-master\\facedetection-1\\facedetection-1\\train\\images\\KakaoTalk_20230408_155846698_jpg.rf.8fc6d6e30a24155c2842c24b15f12a9b.jpg: ignoring corrupt image/label: [Errno 2] No such file or directory: 'C:\\\\Users\\\\YooByeongJu\\\\Desktop\\\\yolov5-master\\\\facedetection-1\\\\facedetection-1\\\\train\\\\images\\\\KakaoTalk_20230408_155846698_jpg.rf.8fc6d6e30a24155c2842c24b15f12a9b.jpg'\n",
      "\u001b[34m\u001b[1mtrain: \u001b[0mWARNING  C:\\Users\\YooByeongJu\\Desktop\\yolov5-master\\facedetection-1\\facedetection-1\\train\\images\\KakaoTalk_20230408_155846698_jpg.rf.f555ff24bd872439365c1835f2bca388.jpg: ignoring corrupt image/label: [Errno 2] No such file or directory: 'C:\\\\Users\\\\YooByeongJu\\\\Desktop\\\\yolov5-master\\\\facedetection-1\\\\facedetection-1\\\\train\\\\images\\\\KakaoTalk_20230408_155846698_jpg.rf.f555ff24bd872439365c1835f2bca388.jpg'\n",
      "\u001b[34m\u001b[1mtrain: \u001b[0mWARNING  No labels found in C:\\Users\\YooByeongJu\\Desktop\\yolov5-master\\facedetection-1\\train.cache. See https://github.com/ultralytics/yolov5/wiki/Train-Custom-Data\n",
      "\u001b[34m\u001b[1mtrain: \u001b[0mNew cache created: C:\\Users\\YooByeongJu\\Desktop\\yolov5-master\\facedetection-1\\train.cache\n",
      "Traceback (most recent call last):\n",
      "  File \"train.py\", line 649, in <module>\n",
      "    main(opt)\n",
      "  File \"train.py\", line 538, in main\n",
      "    train(opt.hyp, opt, device, callbacks)\n",
      "  File \"train.py\", line 188, in train\n",
      "    train_loader, dataset = create_dataloader(train_path,\n",
      "  File \"c:\\Users\\YooByeongJu\\Desktop\\yolov5-master\\utils\\dataloaders.py\", line 124, in create_dataloader\n",
      "    dataset = LoadImagesAndLabels(\n",
      "  File \"c:\\Users\\YooByeongJu\\Desktop\\yolov5-master\\utils\\dataloaders.py\", line 502, in __init__\n",
      "    assert nf > 0 or not augment, f'{prefix}No labels found in {cache_path}, can not start training. {HELP_URL}'\n",
      "AssertionError: \u001b[34m\u001b[1mtrain: \u001b[0mNo labels found in C:\\Users\\YooByeongJu\\Desktop\\yolov5-master\\facedetection-1\\train.cache, can not start training. See https://github.com/ultralytics/yolov5/wiki/Train-Custom-Data\n"
     ]
    }
   ],
   "source": [
    "\n",
    "!python train.py --img 416 --batch 16 --epochs 50 --data ./facedetection-1/data.yaml --cfg ./models/yolov5s.yaml --weights yolov5s.pt --name yolov5_face"
   ]
  },
  {
   "cell_type": "code",
   "execution_count": null,
   "id": "a374eccc",
   "metadata": {},
   "outputs": [],
   "source": []
  }
 ],
 "metadata": {
  "kernelspec": {
   "display_name": "env_dlib",
   "language": "python",
   "name": "python3"
  },
  "language_info": {
   "codemirror_mode": {
    "name": "ipython",
    "version": 3
   },
   "file_extension": ".py",
   "mimetype": "text/x-python",
   "name": "python",
   "nbconvert_exporter": "python",
   "pygments_lexer": "ipython3",
   "version": "3.8.16"
  }
 },
 "nbformat": 4,
 "nbformat_minor": 5
}
